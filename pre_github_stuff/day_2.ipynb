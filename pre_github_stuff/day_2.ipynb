{
 "cells": [
  {
   "cell_type": "code",
   "execution_count": 31,
   "metadata": {},
   "outputs": [],
   "source": [
    "from collections import Counter\n",
    "from collections import defaultdict"
   ]
  },
  {
   "cell_type": "code",
   "execution_count": 4,
   "metadata": {},
   "outputs": [],
   "source": [
    "with open('day_2_input.txt') as file:\n",
    "    id_list = file.read().splitlines()\n"
   ]
  },
  {
   "cell_type": "code",
   "execution_count": 5,
   "metadata": {},
   "outputs": [
    {
     "data": {
      "text/plain": [
       "'xrecqmdonskvzupalfkwhjctdb'"
      ]
     },
     "execution_count": 5,
     "metadata": {},
     "output_type": "execute_result"
    }
   ],
   "source": [
    "id_list[0]"
   ]
  },
  {
   "cell_type": "code",
   "execution_count": 53,
   "metadata": {},
   "outputs": [],
   "source": [
    "def item_processing(string):\n",
    "    exactly_two = []\n",
    "    exactly_three = []\n",
    "    \n",
    "    str_list = [i for i in string]\n",
    "    counted_list = Counter(str_list)\n",
    "    for key in counted_list:\n",
    "        if counted_list[key]==2:\n",
    "            exactly_two.append(key)\n",
    "        if counted_list[key]==3:\n",
    "            exactly_three.append(key)\n",
    "            \n",
    "    #print(len(exactly_two),len(exactly_three))\n",
    "    return(len(exactly_two)>0,len(exactly_three)>0)\n",
    "\n",
    "\n",
    "def warehouse_processing(list_of_strings):\n",
    "    record = {'two': 0,\n",
    "              'three': 0}\n",
    "    \n",
    "    for item in list_of_strings:\n",
    "        two, three = item_processing(item)\n",
    "        record['two'] += two\n",
    "        record['three'] += three\n",
    "        \n",
    "    #print(record)\n",
    "    return(record['two'] * record['three'])"
   ]
  },
  {
   "cell_type": "code",
   "execution_count": null,
   "metadata": {},
   "outputs": [],
   "source": []
  },
  {
   "cell_type": "code",
   "execution_count": 46,
   "metadata": {},
   "outputs": [],
   "source": [
    "example_list = ['abcdef', \n",
    "                'bababc',\n",
    "                'abbcde',\n",
    "                'abcccd', \n",
    "                'aabcdd', \n",
    "                'abcdee',\n",
    "                'ababab',]"
   ]
  },
  {
   "cell_type": "code",
   "execution_count": 51,
   "metadata": {},
   "outputs": [
    {
     "name": "stdout",
     "output_type": "stream",
     "text": [
      "0 0\n",
      "1 1\n",
      "1 0\n",
      "0 1\n",
      "2 0\n",
      "1 0\n",
      "0 2\n",
      "{'two': 4, 'three': 3}\n"
     ]
    },
    {
     "data": {
      "text/plain": [
       "12"
      ]
     },
     "execution_count": 51,
     "metadata": {},
     "output_type": "execute_result"
    }
   ],
   "source": [
    "warehouse_processing(example_list)"
   ]
  },
  {
   "cell_type": "code",
   "execution_count": 30,
   "metadata": {},
   "outputs": [
    {
     "name": "stdout",
     "output_type": "stream",
     "text": [
      "exactly 2 c\n",
      "exactly 2 d\n",
      "exactly 2 k\n"
     ]
    }
   ],
   "source": [
    "for key in a:\n",
    "    if a[key] == 2:\n",
    "        print('exactly 2',key)\n",
    "    "
   ]
  },
  {
   "cell_type": "code",
   "execution_count": 43,
   "metadata": {},
   "outputs": [
    {
     "data": {
      "text/plain": [
       "1"
      ]
     },
     "execution_count": 43,
     "metadata": {},
     "output_type": "execute_result"
    }
   ],
   "source": [
    "checksum('bababc')"
   ]
  },
  {
   "cell_type": "code",
   "execution_count": 54,
   "metadata": {},
   "outputs": [
    {
     "data": {
      "text/plain": [
       "5976"
      ]
     },
     "execution_count": 54,
     "metadata": {},
     "output_type": "execute_result"
    }
   ],
   "source": [
    "warehouse_processing(id_list)"
   ]
  },
  {
   "cell_type": "markdown",
   "metadata": {},
   "source": [
    "### part 2"
   ]
  },
  {
   "cell_type": "code",
   "execution_count": 55,
   "metadata": {},
   "outputs": [],
   "source": [
    "example_boxes = ['abcde',\n",
    "                 'fghij',\n",
    "                 'klmno',\n",
    "                 'pqrst',\n",
    "                 'fguij',\n",
    "                 'axcye',\n",
    "                 'wvxyz',]"
   ]
  },
  {
   "cell_type": "code",
   "execution_count": 57,
   "metadata": {},
   "outputs": [
    {
     "data": {
      "text/plain": [
       "['a', 'b', 'c', 'd', 'e']"
      ]
     },
     "execution_count": 57,
     "metadata": {},
     "output_type": "execute_result"
    }
   ],
   "source": [
    "string_one = [i for i in 'abcde']\n",
    "string_two = [i for i in 'axcye']\n",
    "\n",
    "string_one\n",
    "\n"
   ]
  },
  {
   "cell_type": "code",
   "execution_count": 58,
   "metadata": {},
   "outputs": [
    {
     "name": "stdout",
     "output_type": "stream",
     "text": [
      "0 a\n",
      "1 b\n",
      "2 c\n",
      "3 d\n",
      "4 e\n"
     ]
    }
   ],
   "source": [
    "for index, letter in enumerate(string_one):\n",
    "    print(index,letter)"
   ]
  },
  {
   "cell_type": "code",
   "execution_count": 60,
   "metadata": {},
   "outputs": [
    {
     "data": {
      "text/plain": [
       "[(0, 'a'), (1, 'b'), (2, 'c'), (3, 'd'), (4, 'e')]"
      ]
     },
     "execution_count": 60,
     "metadata": {},
     "output_type": "execute_result"
    }
   ],
   "source": [
    "[i for i in enumerate(string_one)]"
   ]
  },
  {
   "cell_type": "code",
   "execution_count": 64,
   "metadata": {},
   "outputs": [
    {
     "data": {
      "text/plain": [
       "{'abcde': {(0, 'a'), (1, 'b'), (2, 'c'), (3, 'd'), (4, 'e')},\n",
       " 'fghij': {(0, 'f'), (1, 'g'), (2, 'h'), (3, 'i'), (4, 'j')},\n",
       " 'klmno': {(0, 'k'), (1, 'l'), (2, 'm'), (3, 'n'), (4, 'o')},\n",
       " 'pqrst': {(0, 'p'), (1, 'q'), (2, 'r'), (3, 's'), (4, 't')},\n",
       " 'fguij': {(0, 'f'), (1, 'g'), (2, 'u'), (3, 'i'), (4, 'j')},\n",
       " 'axcye': {(0, 'a'), (1, 'x'), (2, 'c'), (3, 'y'), (4, 'e')},\n",
       " 'wvxyz': {(0, 'w'), (1, 'v'), (2, 'x'), (3, 'y'), (4, 'z')}}"
      ]
     },
     "execution_count": 64,
     "metadata": {},
     "output_type": "execute_result"
    }
   ],
   "source": [
    "enum = dict()\n",
    "for string in example_boxes:\n",
    "    enum[string] = {i for i in enumerate(string)}\n",
    "    \n",
    "enum"
   ]
  },
  {
   "cell_type": "code",
   "execution_count": 84,
   "metadata": {},
   "outputs": [],
   "source": [
    "example_boxes = ['abcde',\n",
    "                 'fghij',\n",
    "                 'klmno',\n",
    "                 'pqrst',\n",
    "                 'fguij',\n",
    "                 'axcye',\n",
    "                 'wvxyz',]\n",
    "\n",
    "boxes_list = example_boxes.copy()\n",
    "\n"
   ]
  },
  {
   "cell_type": "code",
   "execution_count": 95,
   "metadata": {},
   "outputs": [],
   "source": [
    "def compare_sets(a,b):\n",
    "    test_set = a - b\n",
    "    if len(test_set) == 1:\n",
    "        return True\n",
    "    else:\n",
    "        return False\n",
    "\n",
    "def enum(inlist):\n",
    "    enumerated_dict = dict()\n",
    "    for item in inlist:\n",
    "        working_list = [i for i in item]\n",
    "        enum_set = {j for j in enumerate(working_list)}\n",
    "        enumerated_dict[item] = enum_set\n",
    "\n",
    "    return enumerated_dict\n",
    "    \n",
    "def find_the_boxes(list_of_boxes):\n",
    "    enumerated_boxes = enum(list_of_boxes)\n",
    "    #print(enumerated_boxes)\n",
    "    \n",
    "    poppable_list_of_boxes = list_of_boxes.copy()\n",
    "    \n",
    "    for string in list_of_boxes:\n",
    "        working_string = poppable_list_of_boxes.pop(0)\n",
    "        \n",
    "        for remaining_string in poppable_list_of_boxes:\n",
    "            if compare_sets(enumerated_boxes[string], enumerated_boxes[remaining_string]) is True:\n",
    "                return(string, remaining_string)"
   ]
  },
  {
   "cell_type": "code",
   "execution_count": 93,
   "metadata": {},
   "outputs": [
    {
     "name": "stdout",
     "output_type": "stream",
     "text": [
      "{'abcde': {(2, 'c'), (0, 'a'), (3, 'd'), (1, 'b'), (4, 'e')}, 'fghij': {(0, 'f'), (4, 'j'), (3, 'i'), (2, 'h'), (1, 'g')}, 'klmno': {(4, 'o'), (1, 'l'), (2, 'm'), (3, 'n'), (0, 'k')}, 'pqrst': {(2, 'r'), (4, 't'), (1, 'q'), (0, 'p'), (3, 's')}, 'fguij': {(0, 'f'), (2, 'u'), (4, 'j'), (3, 'i'), (1, 'g')}, 'axcye': {(2, 'c'), (0, 'a'), (1, 'x'), (4, 'e'), (3, 'y')}, 'wvxyz': {(1, 'v'), (4, 'z'), (2, 'x'), (0, 'w'), (3, 'y')}}\n"
     ]
    },
    {
     "data": {
      "text/plain": [
       "('fghij', 'fguij')"
      ]
     },
     "execution_count": 93,
     "metadata": {},
     "output_type": "execute_result"
    }
   ],
   "source": [
    "find_the_boxes(example_boxes)"
   ]
  },
  {
   "cell_type": "code",
   "execution_count": 96,
   "metadata": {},
   "outputs": [],
   "source": [
    "string_a, string_b = find_the_boxes(id_list)"
   ]
  },
  {
   "cell_type": "code",
   "execution_count": 98,
   "metadata": {},
   "outputs": [
    {
     "data": {
      "text/plain": [
       "{'a',\n",
       " 'b',\n",
       " 'c',\n",
       " 'd',\n",
       " 'e',\n",
       " 'f',\n",
       " 'h',\n",
       " 'i',\n",
       " 'k',\n",
       " 'l',\n",
       " 'm',\n",
       " 'n',\n",
       " 'o',\n",
       " 'p',\n",
       " 'q',\n",
       " 'r',\n",
       " 's',\n",
       " 't',\n",
       " 'u',\n",
       " 'v',\n",
       " 'w',\n",
       " 'x',\n",
       " 'z'}"
      ]
     },
     "execution_count": 98,
     "metadata": {},
     "output_type": "execute_result"
    }
   ],
   "source": [
    "{i for i in string_a}.intersection({j for j in string_b})"
   ]
  },
  {
   "cell_type": "code",
   "execution_count": 99,
   "metadata": {},
   "outputs": [
    {
     "data": {
      "text/plain": [
       "'xretqmmonskvzupalfiwhwcfdb'"
      ]
     },
     "execution_count": 99,
     "metadata": {},
     "output_type": "execute_result"
    }
   ],
   "source": [
    "string_a"
   ]
  },
  {
   "cell_type": "code",
   "execution_count": 100,
   "metadata": {},
   "outputs": [
    {
     "data": {
      "text/plain": [
       "'xretqmmonskvzupalfiwhjcfdb'"
      ]
     },
     "execution_count": 100,
     "metadata": {},
     "output_type": "execute_result"
    }
   ],
   "source": [
    "string_b"
   ]
  },
  {
   "cell_type": "code",
   "execution_count": null,
   "metadata": {},
   "outputs": [],
   "source": []
  }
 ],
 "metadata": {
  "kernelspec": {
   "display_name": "Python 3",
   "language": "python",
   "name": "python3"
  },
  "language_info": {
   "codemirror_mode": {
    "name": "ipython",
    "version": 3
   },
   "file_extension": ".py",
   "mimetype": "text/x-python",
   "name": "python",
   "nbconvert_exporter": "python",
   "pygments_lexer": "ipython3",
   "version": "3.7.1"
  }
 },
 "nbformat": 4,
 "nbformat_minor": 2
}
