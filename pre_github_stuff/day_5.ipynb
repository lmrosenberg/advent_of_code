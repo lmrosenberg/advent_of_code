{
 "cells": [
  {
   "cell_type": "code",
   "execution_count": 58,
   "metadata": {},
   "outputs": [],
   "source": [
    "import itertools\n",
    "from collections import OrderedDict"
   ]
  },
  {
   "cell_type": "code",
   "execution_count": 1,
   "metadata": {},
   "outputs": [],
   "source": [
    "sample = 'dabAcCaCBAcCcaDA'"
   ]
  },
  {
   "cell_type": "code",
   "execution_count": 2,
   "metadata": {},
   "outputs": [
    {
     "data": {
      "text/plain": [
       "[(0, 'd'),\n",
       " (1, 'a'),\n",
       " (2, 'b'),\n",
       " (3, 'A'),\n",
       " (4, 'c'),\n",
       " (5, 'C'),\n",
       " (6, 'a'),\n",
       " (7, 'C'),\n",
       " (8, 'B'),\n",
       " (9, 'A'),\n",
       " (10, 'c'),\n",
       " (11, 'C'),\n",
       " (12, 'c'),\n",
       " (13, 'a'),\n",
       " (14, 'D'),\n",
       " (15, 'A')]"
      ]
     },
     "execution_count": 2,
     "metadata": {},
     "output_type": "execute_result"
    }
   ],
   "source": [
    "[i for i in enumerate(sample)]"
   ]
  },
  {
   "cell_type": "code",
   "execution_count": 101,
   "metadata": {},
   "outputs": [],
   "source": [
    "def type_adjacent(a,b):\n",
    "    if a != b and str.lower(a) == str.lower(b):\n",
    "        return True\n",
    "    return False\n",
    "\n",
    "def remove_pair(adict, index_1, index_2):\n",
    "    adict.pop(index_1)\n",
    "    adict.pop(index_2)\n",
    "    return adict\n",
    "\n",
    "#def remove_pair(astring, index_1, index_2):\n",
    "#    alist = [i for i in astring]\n",
    "#    alist.pop(index_2)\n",
    "#    alist.pop(index_1)\n",
    "#    return ''.join(alist)\n",
    "\n",
    "def reload_dict(instring):\n",
    "    outdict = OrderedDict()\n",
    "    for index, letter in enumerate(instring):\n",
    "        outdict[index] = letter\n",
    "    return outdict"
   ]
  },
  {
   "cell_type": "code",
   "execution_count": 8,
   "metadata": {},
   "outputs": [
    {
     "data": {
      "text/plain": [
       "True"
      ]
     },
     "execution_count": 8,
     "metadata": {},
     "output_type": "execute_result"
    }
   ],
   "source": [
    "type_adjacent('d','D')"
   ]
  },
  {
   "cell_type": "code",
   "execution_count": 75,
   "metadata": {},
   "outputs": [
    {
     "name": "stdout",
     "output_type": "stream",
     "text": [
      "dabAcCaCBAcCcaDA\n",
      "dabAaCBAcaDA\n",
      "dabCBAcaDA\n",
      "dabCBAcaDA\n"
     ]
    }
   ],
   "source": [
    "sample = 'dabAcCaCBAcCcaDA'\n",
    "\n",
    "#mutable_sample = reload_dict(sample)    \n",
    "in_len = len(sample)\n",
    "out_len = 0\n",
    "    \n",
    "while in_len != out_len:\n",
    "    print(sample)\n",
    "    in_len = len(sample)\n",
    "    mutable_sample = reload_dict(sample)\n",
    "\n",
    "    for index, letter in enumerate(sample):\n",
    "        #print(index, letter)\n",
    "        if index == len(sample) - 1:\n",
    "            break\n",
    "        \n",
    "        else:\n",
    "            if type_adjacent(letter, sample[index+1]):\n",
    "                try:\n",
    "                    mutable_sample = remove_pair(mutable_sample, index, index+1)\n",
    "                except:\n",
    "                    pass\n",
    "    sample = ''.join(list(mutable_sample.values()))\n",
    "    out_len = len(sample)\n",
    "\n",
    "print(sample)"
   ]
  },
  {
   "cell_type": "code",
   "execution_count": 100,
   "metadata": {},
   "outputs": [
    {
     "name": "stdout",
     "output_type": "stream",
     "text": [
      "dabAcCaCBAcCcaDA\n",
      "[(0, 'd'), (1, 'a'), (2, 'b'), (3, 'A'), (4, 'c'), (5, 'C'), (6, 'a'), (7, 'C'), (8, 'B'), (9, 'A'), (10, 'c'), (11, 'C'), (12, 'c'), (13, 'a'), (14, 'D'), (15, 'A')]\n",
      "[4, 5]\n",
      "[4, 5, 10, 11]\n",
      "[4, 5, 10, 11, 11, 12]\n",
      "dabAaCBAaDA\n",
      "[(0, 'd'), (1, 'a'), (2, 'b'), (3, 'A'), (4, 'a'), (5, 'C'), (6, 'B'), (7, 'A'), (8, 'a'), (9, 'D'), (10, 'A')]\n",
      "[3, 4]\n",
      "[3, 4, 7, 8]\n",
      "dabCBDA\n",
      "[(0, 'd'), (1, 'a'), (2, 'b'), (3, 'C'), (4, 'B'), (5, 'D'), (6, 'A')]\n",
      "dabCBDA\n"
     ]
    }
   ],
   "source": [
    "sample = 'dabAcCaCBAcCcaDA'\n",
    "\n",
    "#mutable_sample = reload_dict(sample)    \n",
    "in_len = len(sample)\n",
    "out_len = 0\n",
    "    \n",
    "while in_len != out_len:\n",
    "    print(sample)\n",
    "    print([i for i in enumerate(sample)])\n",
    "    in_len = len(sample)\n",
    "    #mutable_sample = reload_dict(sample)\n",
    "    removal_indices = []\n",
    "\n",
    "    for index, letter in enumerate(sample):\n",
    "        if index == len(sample) - 1:\n",
    "            break\n",
    "        \n",
    "        else:\n",
    "            if type_adjacent(letter, sample[index+1]):\n",
    "                #print(sample, index, letter)\n",
    "                removal_indices.extend([index, index+1])\n",
    "                print(removal_indices)\n",
    "\n",
    "    sample =  \"\".join([char for idx, char in enumerate(sample) if idx not in removal_indices])\n",
    "\n",
    "#    sample = ''.join(list(sample))\n",
    "    out_len = len(sample)\n",
    "\n",
    "print(sample)"
   ]
  },
  {
   "cell_type": "code",
   "execution_count": 103,
   "metadata": {},
   "outputs": [],
   "source": [
    "with open('day_5_input.txt') as file:\n",
    "    input5 = file.read()"
   ]
  },
  {
   "cell_type": "code",
   "execution_count": 90,
   "metadata": {},
   "outputs": [
    {
     "ename": "AttributeError",
     "evalue": "'str' object has no attribute 'pop'",
     "output_type": "error",
     "traceback": [
      "\u001b[0;31m---------------------------------------------------------------------------\u001b[0m",
      "\u001b[0;31mAttributeError\u001b[0m                            Traceback (most recent call last)",
      "\u001b[0;32m<ipython-input-90-5578c17fdf2f>\u001b[0m in \u001b[0;36m<module>\u001b[0;34m\u001b[0m\n\u001b[0;32m----> 1\u001b[0;31m \u001b[0mremove_pair\u001b[0m\u001b[0;34m(\u001b[0m\u001b[0msample\u001b[0m\u001b[0;34m,\u001b[0m\u001b[0;36m1\u001b[0m\u001b[0;34m,\u001b[0m\u001b[0;36m2\u001b[0m\u001b[0;34m)\u001b[0m\u001b[0;34m\u001b[0m\u001b[0;34m\u001b[0m\u001b[0m\n\u001b[0m",
      "\u001b[0;32m<ipython-input-74-5b3b6dd2466a>\u001b[0m in \u001b[0;36mremove_pair\u001b[0;34m(adict, index_1, index_2)\u001b[0m\n\u001b[1;32m      5\u001b[0m \u001b[0;34m\u001b[0m\u001b[0m\n\u001b[1;32m      6\u001b[0m \u001b[0;32mdef\u001b[0m \u001b[0mremove_pair\u001b[0m\u001b[0;34m(\u001b[0m\u001b[0madict\u001b[0m\u001b[0;34m,\u001b[0m \u001b[0mindex_1\u001b[0m\u001b[0;34m,\u001b[0m \u001b[0mindex_2\u001b[0m\u001b[0;34m)\u001b[0m\u001b[0;34m:\u001b[0m\u001b[0;34m\u001b[0m\u001b[0;34m\u001b[0m\u001b[0m\n\u001b[0;32m----> 7\u001b[0;31m     \u001b[0madict\u001b[0m\u001b[0;34m.\u001b[0m\u001b[0mpop\u001b[0m\u001b[0;34m(\u001b[0m\u001b[0mindex_1\u001b[0m\u001b[0;34m)\u001b[0m\u001b[0;34m\u001b[0m\u001b[0;34m\u001b[0m\u001b[0m\n\u001b[0m\u001b[1;32m      8\u001b[0m     \u001b[0madict\u001b[0m\u001b[0;34m.\u001b[0m\u001b[0mpop\u001b[0m\u001b[0;34m(\u001b[0m\u001b[0mindex_2\u001b[0m\u001b[0;34m)\u001b[0m\u001b[0;34m\u001b[0m\u001b[0;34m\u001b[0m\u001b[0m\n\u001b[1;32m      9\u001b[0m     \u001b[0;32mreturn\u001b[0m \u001b[0madict\u001b[0m\u001b[0;34m\u001b[0m\u001b[0;34m\u001b[0m\u001b[0m\n",
      "\u001b[0;31mAttributeError\u001b[0m: 'str' object has no attribute 'pop'"
     ]
    }
   ],
   "source": [
    "remove_pair(sample,1,2)"
   ]
  },
  {
   "cell_type": "code",
   "execution_count": 104,
   "metadata": {},
   "outputs": [
    {
     "name": "stdout",
     "output_type": "stream",
     "text": [
      "11546\n"
     ]
    }
   ],
   "source": [
    "#sample = 'DdabAcCaCBAcCcaDA'\n",
    "sample = input5\n",
    "\n",
    "in_len = len(sample)\n",
    "out_len = 0\n",
    "    \n",
    "while in_len != out_len:\n",
    "    in_len = len(sample)\n",
    "    mutable_sample = reload_dict(sample)\n",
    "\n",
    "    for index, letter in enumerate(sample):\n",
    "        if index == len(sample) - 1:\n",
    "            break\n",
    "        \n",
    "        else:\n",
    "            if type_adjacent(letter, sample[index+1]):\n",
    "                try:\n",
    "                    mutable_sample = remove_pair(mutable_sample, index, index+1)\n",
    "                except:\n",
    "                    pass\n",
    "    sample = ''.join(list(mutable_sample.values()))\n",
    "    out_len = len(sample)\n",
    "\n",
    "print(len(sample))\n",
    "#print(sample)"
   ]
  },
  {
   "cell_type": "code",
   "execution_count": 109,
   "metadata": {},
   "outputs": [],
   "source": [
    "def polymerize(sample):\n",
    "    in_len = len(sample)\n",
    "    out_len = 0\n",
    "\n",
    "    while in_len != out_len:\n",
    "        in_len = len(sample)\n",
    "        mutable_sample = reload_dict(sample)\n",
    "\n",
    "        for index, letter in enumerate(sample):\n",
    "            if index == len(sample) - 1:\n",
    "                break\n",
    "\n",
    "            else:\n",
    "                if type_adjacent(letter, sample[index+1]):\n",
    "                    try:\n",
    "                        mutable_sample = remove_pair(mutable_sample, index, index+1)\n",
    "                    except:\n",
    "                        pass\n",
    "        sample = ''.join(list(mutable_sample.values()))\n",
    "        out_len = len(sample)\n",
    "\n",
    "    return(sample)"
   ]
  },
  {
   "cell_type": "code",
   "execution_count": 108,
   "metadata": {},
   "outputs": [
    {
     "data": {
      "text/plain": [
       "26"
      ]
     },
     "execution_count": 108,
     "metadata": {},
     "output_type": "execute_result"
    }
   ],
   "source": [
    "set_of_unit_types = {str.lower(i) for i in input5}\n",
    "len(set_of_unit_types)"
   ]
  },
  {
   "cell_type": "code",
   "execution_count": 114,
   "metadata": {},
   "outputs": [
    {
     "name": "stdout",
     "output_type": "stream",
     "text": [
      "done\n"
     ]
    }
   ],
   "source": [
    "set_of_unit_types = {str.lower(i) for i in input5}\n",
    "polymer_size = dict()\n",
    "\n",
    "for unit in set_of_unit_types:\n",
    "    filtered_sample = input5.replace(unit,'').replace(str.upper(unit),'')\n",
    "    polymer_size[unit] = len(polymerize(filtered_sample))\n",
    "    \n",
    "print('done')"
   ]
  },
  {
   "cell_type": "code",
   "execution_count": 112,
   "metadata": {},
   "outputs": [
    {
     "name": "stdout",
     "output_type": "stream",
     "text": [
      "Dd!bAcC!CBAcCc!DA DdabAcCaCBAcCcaDA\n"
     ]
    }
   ],
   "source": [
    "sample = 'DdabAcCaCBAcCcaDA'\n",
    "a = sample.replace('a','!')\n",
    "print(a, sample)"
   ]
  },
  {
   "cell_type": "code",
   "execution_count": 116,
   "metadata": {},
   "outputs": [
    {
     "data": {
      "text/plain": [
       "5124"
      ]
     },
     "execution_count": 116,
     "metadata": {},
     "output_type": "execute_result"
    }
   ],
   "source": [
    "min(polymer_size.values())"
   ]
  },
  {
   "cell_type": "code",
   "execution_count": null,
   "metadata": {},
   "outputs": [],
   "source": []
  },
  {
   "cell_type": "code",
   "execution_count": null,
   "metadata": {},
   "outputs": [],
   "source": []
  },
  {
   "cell_type": "code",
   "execution_count": null,
   "metadata": {},
   "outputs": [],
   "source": []
  }
 ],
 "metadata": {
  "kernelspec": {
   "display_name": "Python 3",
   "language": "python",
   "name": "python3"
  },
  "language_info": {
   "codemirror_mode": {
    "name": "ipython",
    "version": 3
   },
   "file_extension": ".py",
   "mimetype": "text/x-python",
   "name": "python",
   "nbconvert_exporter": "python",
   "pygments_lexer": "ipython3",
   "version": "3.7.1"
  }
 },
 "nbformat": 4,
 "nbformat_minor": 2
}
