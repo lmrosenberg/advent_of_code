{
 "cells": [
  {
   "cell_type": "code",
   "execution_count": 1,
   "metadata": {},
   "outputs": [],
   "source": [
    "with open('day_3_input.txt') as file:\n",
    "    claims = file.read().splitlines()"
   ]
  },
  {
   "cell_type": "code",
   "execution_count": 2,
   "metadata": {},
   "outputs": [
    {
     "data": {
      "text/plain": [
       "'#1 @ 829,837: 11x22'"
      ]
     },
     "execution_count": 2,
     "metadata": {},
     "output_type": "execute_result"
    }
   ],
   "source": [
    "claims[0]"
   ]
  },
  {
   "cell_type": "code",
   "execution_count": 9,
   "metadata": {},
   "outputs": [
    {
     "data": {
      "text/plain": [
       "'#1 @ 829,837: 11x22'"
      ]
     },
     "execution_count": 9,
     "metadata": {},
     "output_type": "execute_result"
    }
   ],
   "source": [
    "a = claims[0]\n",
    "a"
   ]
  },
  {
   "cell_type": "code",
   "execution_count": 5,
   "metadata": {},
   "outputs": [],
   "source": [
    "aa = a.split()[0]"
   ]
  },
  {
   "cell_type": "code",
   "execution_count": 6,
   "metadata": {},
   "outputs": [
    {
     "data": {
      "text/plain": [
       "'#1'"
      ]
     },
     "execution_count": 6,
     "metadata": {},
     "output_type": "execute_result"
    }
   ],
   "source": [
    "aa"
   ]
  },
  {
   "cell_type": "code",
   "execution_count": 8,
   "metadata": {},
   "outputs": [
    {
     "data": {
      "text/plain": [
       "'1'"
      ]
     },
     "execution_count": 8,
     "metadata": {},
     "output_type": "execute_result"
    }
   ],
   "source": [
    "aa[1:]"
   ]
  },
  {
   "cell_type": "code",
   "execution_count": 27,
   "metadata": {},
   "outputs": [
    {
     "data": {
      "text/plain": [
       "(829, 837)"
      ]
     },
     "execution_count": 27,
     "metadata": {},
     "output_type": "execute_result"
    }
   ],
   "source": [
    "x,y = a.split()[2].replace(':','').split(',')\n",
    "x, y = int(x), int(y)\n",
    "x,y"
   ]
  },
  {
   "cell_type": "code",
   "execution_count": 21,
   "metadata": {},
   "outputs": [
    {
     "data": {
      "text/plain": [
       "1"
      ]
     },
     "execution_count": 21,
     "metadata": {},
     "output_type": "execute_result"
    }
   ],
   "source": [
    "int(aa[1:])"
   ]
  },
  {
   "cell_type": "code",
   "execution_count": 30,
   "metadata": {},
   "outputs": [
    {
     "data": {
      "text/plain": [
       "(11, 22)"
      ]
     },
     "execution_count": 30,
     "metadata": {},
     "output_type": "execute_result"
    }
   ],
   "source": [
    "u, v = a.split()[3].replace('x',' ').split()\n",
    "u, v = int(u), int(v)\n",
    "u,v"
   ]
  },
  {
   "cell_type": "code",
   "execution_count": 59,
   "metadata": {},
   "outputs": [],
   "source": [
    "def process_line(line):\n",
    "    split_line = line.split()\n",
    "    claim_number = int(split_line[0][1:])\n",
    "    x,y = split_line[2].replace(':','').split(',')\n",
    "    x_start,y_start = int(x), int(y)\n",
    "    u,v = split_line[3].replace('x',' ').split()\n",
    "    u,v = int(u), int(v)\n",
    "    \n",
    "    x_end = x_start + u\n",
    "    y_end = y_start + v\n",
    "    \n",
    "    x_range = [i for i in range(x_start,x_end)]\n",
    "    y_range = [j for j in range(y_start,y_end)]\n",
    "    \n",
    "    return(claim_number, x_range, y_range)\n",
    "\n"
   ]
  },
  {
   "cell_type": "code",
   "execution_count": 35,
   "metadata": {},
   "outputs": [
    {
     "data": {
      "text/plain": [
       "(1, (829, 840), (837, 859))"
      ]
     },
     "execution_count": 35,
     "metadata": {},
     "output_type": "execute_result"
    }
   ],
   "source": [
    "claim_number, (x_start,x_end), (y_start,y_end) = process_line(claims[0])\n",
    "claim_number, (x_start,x_end), (y_start,y_end)"
   ]
  },
  {
   "cell_type": "code",
   "execution_count": 41,
   "metadata": {},
   "outputs": [],
   "source": [
    "x_range = [i for i in range(x_start,x_end+1)]\n",
    "y_range = [j for j in range(y_start,y_end+1)]"
   ]
  },
  {
   "cell_type": "code",
   "execution_count": 45,
   "metadata": {},
   "outputs": [],
   "source": [
    "import itertools\n",
    "from collections import Counter"
   ]
  },
  {
   "cell_type": "code",
   "execution_count": 43,
   "metadata": {},
   "outputs": [
    {
     "data": {
      "text/plain": [
       "[(829, 837),\n",
       " (829, 838),\n",
       " (829, 839),\n",
       " (829, 840),\n",
       " (829, 841),\n",
       " (829, 842),\n",
       " (829, 843),\n",
       " (829, 844),\n",
       " (829, 845),\n",
       " (829, 846),\n",
       " (829, 847),\n",
       " (829, 848),\n",
       " (829, 849),\n",
       " (829, 850),\n",
       " (829, 851),\n",
       " (829, 852),\n",
       " (829, 853),\n",
       " (829, 854),\n",
       " (829, 855),\n",
       " (829, 856),\n",
       " (829, 857),\n",
       " (829, 858),\n",
       " (829, 859),\n",
       " (830, 837),\n",
       " (830, 838),\n",
       " (830, 839),\n",
       " (830, 840),\n",
       " (830, 841),\n",
       " (830, 842),\n",
       " (830, 843),\n",
       " (830, 844),\n",
       " (830, 845),\n",
       " (830, 846),\n",
       " (830, 847),\n",
       " (830, 848),\n",
       " (830, 849),\n",
       " (830, 850),\n",
       " (830, 851),\n",
       " (830, 852),\n",
       " (830, 853),\n",
       " (830, 854),\n",
       " (830, 855),\n",
       " (830, 856),\n",
       " (830, 857),\n",
       " (830, 858),\n",
       " (830, 859),\n",
       " (831, 837),\n",
       " (831, 838),\n",
       " (831, 839),\n",
       " (831, 840),\n",
       " (831, 841),\n",
       " (831, 842),\n",
       " (831, 843),\n",
       " (831, 844),\n",
       " (831, 845),\n",
       " (831, 846),\n",
       " (831, 847),\n",
       " (831, 848),\n",
       " (831, 849),\n",
       " (831, 850),\n",
       " (831, 851),\n",
       " (831, 852),\n",
       " (831, 853),\n",
       " (831, 854),\n",
       " (831, 855),\n",
       " (831, 856),\n",
       " (831, 857),\n",
       " (831, 858),\n",
       " (831, 859),\n",
       " (832, 837),\n",
       " (832, 838),\n",
       " (832, 839),\n",
       " (832, 840),\n",
       " (832, 841),\n",
       " (832, 842),\n",
       " (832, 843),\n",
       " (832, 844),\n",
       " (832, 845),\n",
       " (832, 846),\n",
       " (832, 847),\n",
       " (832, 848),\n",
       " (832, 849),\n",
       " (832, 850),\n",
       " (832, 851),\n",
       " (832, 852),\n",
       " (832, 853),\n",
       " (832, 854),\n",
       " (832, 855),\n",
       " (832, 856),\n",
       " (832, 857),\n",
       " (832, 858),\n",
       " (832, 859),\n",
       " (833, 837),\n",
       " (833, 838),\n",
       " (833, 839),\n",
       " (833, 840),\n",
       " (833, 841),\n",
       " (833, 842),\n",
       " (833, 843),\n",
       " (833, 844),\n",
       " (833, 845),\n",
       " (833, 846),\n",
       " (833, 847),\n",
       " (833, 848),\n",
       " (833, 849),\n",
       " (833, 850),\n",
       " (833, 851),\n",
       " (833, 852),\n",
       " (833, 853),\n",
       " (833, 854),\n",
       " (833, 855),\n",
       " (833, 856),\n",
       " (833, 857),\n",
       " (833, 858),\n",
       " (833, 859),\n",
       " (834, 837),\n",
       " (834, 838),\n",
       " (834, 839),\n",
       " (834, 840),\n",
       " (834, 841),\n",
       " (834, 842),\n",
       " (834, 843),\n",
       " (834, 844),\n",
       " (834, 845),\n",
       " (834, 846),\n",
       " (834, 847),\n",
       " (834, 848),\n",
       " (834, 849),\n",
       " (834, 850),\n",
       " (834, 851),\n",
       " (834, 852),\n",
       " (834, 853),\n",
       " (834, 854),\n",
       " (834, 855),\n",
       " (834, 856),\n",
       " (834, 857),\n",
       " (834, 858),\n",
       " (834, 859),\n",
       " (835, 837),\n",
       " (835, 838),\n",
       " (835, 839),\n",
       " (835, 840),\n",
       " (835, 841),\n",
       " (835, 842),\n",
       " (835, 843),\n",
       " (835, 844),\n",
       " (835, 845),\n",
       " (835, 846),\n",
       " (835, 847),\n",
       " (835, 848),\n",
       " (835, 849),\n",
       " (835, 850),\n",
       " (835, 851),\n",
       " (835, 852),\n",
       " (835, 853),\n",
       " (835, 854),\n",
       " (835, 855),\n",
       " (835, 856),\n",
       " (835, 857),\n",
       " (835, 858),\n",
       " (835, 859),\n",
       " (836, 837),\n",
       " (836, 838),\n",
       " (836, 839),\n",
       " (836, 840),\n",
       " (836, 841),\n",
       " (836, 842),\n",
       " (836, 843),\n",
       " (836, 844),\n",
       " (836, 845),\n",
       " (836, 846),\n",
       " (836, 847),\n",
       " (836, 848),\n",
       " (836, 849),\n",
       " (836, 850),\n",
       " (836, 851),\n",
       " (836, 852),\n",
       " (836, 853),\n",
       " (836, 854),\n",
       " (836, 855),\n",
       " (836, 856),\n",
       " (836, 857),\n",
       " (836, 858),\n",
       " (836, 859),\n",
       " (837, 837),\n",
       " (837, 838),\n",
       " (837, 839),\n",
       " (837, 840),\n",
       " (837, 841),\n",
       " (837, 842),\n",
       " (837, 843),\n",
       " (837, 844),\n",
       " (837, 845),\n",
       " (837, 846),\n",
       " (837, 847),\n",
       " (837, 848),\n",
       " (837, 849),\n",
       " (837, 850),\n",
       " (837, 851),\n",
       " (837, 852),\n",
       " (837, 853),\n",
       " (837, 854),\n",
       " (837, 855),\n",
       " (837, 856),\n",
       " (837, 857),\n",
       " (837, 858),\n",
       " (837, 859),\n",
       " (838, 837),\n",
       " (838, 838),\n",
       " (838, 839),\n",
       " (838, 840),\n",
       " (838, 841),\n",
       " (838, 842),\n",
       " (838, 843),\n",
       " (838, 844),\n",
       " (838, 845),\n",
       " (838, 846),\n",
       " (838, 847),\n",
       " (838, 848),\n",
       " (838, 849),\n",
       " (838, 850),\n",
       " (838, 851),\n",
       " (838, 852),\n",
       " (838, 853),\n",
       " (838, 854),\n",
       " (838, 855),\n",
       " (838, 856),\n",
       " (838, 857),\n",
       " (838, 858),\n",
       " (838, 859),\n",
       " (839, 837),\n",
       " (839, 838),\n",
       " (839, 839),\n",
       " (839, 840),\n",
       " (839, 841),\n",
       " (839, 842),\n",
       " (839, 843),\n",
       " (839, 844),\n",
       " (839, 845),\n",
       " (839, 846),\n",
       " (839, 847),\n",
       " (839, 848),\n",
       " (839, 849),\n",
       " (839, 850),\n",
       " (839, 851),\n",
       " (839, 852),\n",
       " (839, 853),\n",
       " (839, 854),\n",
       " (839, 855),\n",
       " (839, 856),\n",
       " (839, 857),\n",
       " (839, 858),\n",
       " (839, 859),\n",
       " (840, 837),\n",
       " (840, 838),\n",
       " (840, 839),\n",
       " (840, 840),\n",
       " (840, 841),\n",
       " (840, 842),\n",
       " (840, 843),\n",
       " (840, 844),\n",
       " (840, 845),\n",
       " (840, 846),\n",
       " (840, 847),\n",
       " (840, 848),\n",
       " (840, 849),\n",
       " (840, 850),\n",
       " (840, 851),\n",
       " (840, 852),\n",
       " (840, 853),\n",
       " (840, 854),\n",
       " (840, 855),\n",
       " (840, 856),\n",
       " (840, 857),\n",
       " (840, 858),\n",
       " (840, 859)]"
      ]
     },
     "execution_count": 43,
     "metadata": {},
     "output_type": "execute_result"
    }
   ],
   "source": [
    "[k for k in itertools.product(x_range,y_range)]"
   ]
  },
  {
   "cell_type": "code",
   "execution_count": 61,
   "metadata": {},
   "outputs": [
    {
     "data": {
      "text/plain": [
       "104126"
      ]
     },
     "execution_count": 61,
     "metadata": {},
     "output_type": "execute_result"
    }
   ],
   "source": [
    "claim_shape = dict()\n",
    "all_claimed_points = []\n",
    "\n",
    "for line in claims:\n",
    "    claim_number, x_range, y_range = process_line(line)\n",
    "    claim_shape[claim_number] = [k for k in itertools.product(x_range,y_range)]\n",
    "    all_claimed_points.extend(claim_shape[claim_number])\n",
    "    \n",
    "counted_points = Counter(all_claimed_points)\n",
    "\n",
    "inches_overlapped = 0\n",
    "for item in counted_points:\n",
    "    if counted_points[item] > 1:\n",
    "        inches_overlapped += 1\n",
    "        \n",
    "inches_overlapped"
   ]
  },
  {
   "cell_type": "code",
   "execution_count": 55,
   "metadata": {},
   "outputs": [],
   "source": [
    "sample_input = ['#1 @ 1,3: 4x4',\n",
    "'#2 @ 3,1: 4x4',\n",
    "'#3 @ 5,5: 2x2']"
   ]
  },
  {
   "cell_type": "code",
   "execution_count": 60,
   "metadata": {},
   "outputs": [
    {
     "name": "stdout",
     "output_type": "stream",
     "text": [
      "#1 @ 1,3: 4x4\n",
      "[1, 2, 3, 4] [3, 4, 5, 6]\n",
      "[(1, 3), (1, 4), (1, 5), (1, 6), (2, 3), (2, 4), (2, 5), (2, 6), (3, 3), (3, 4), (3, 5), (3, 6), (4, 3), (4, 4), (4, 5), (4, 6)]\n",
      "#2 @ 3,1: 4x4\n",
      "[3, 4, 5, 6] [1, 2, 3, 4]\n",
      "[(3, 1), (3, 2), (3, 3), (3, 4), (4, 1), (4, 2), (4, 3), (4, 4), (5, 1), (5, 2), (5, 3), (5, 4), (6, 1), (6, 2), (6, 3), (6, 4)]\n",
      "#3 @ 5,5: 2x2\n",
      "[5, 6] [5, 6]\n",
      "[(5, 5), (5, 6), (6, 5), (6, 6)]\n"
     ]
    }
   ],
   "source": [
    "sample_lines = dict()\n",
    "for line in sample_input:\n",
    "    claim_number, x_range, y_range = process_line(line)\n",
    "    claim_shape[claim_number] = [k for k in itertools.product(x_range,y_range)]\n",
    "    print(line)\n",
    "    print(x_range, y_range)\n",
    "    print(claim_shape[claim_number])\n",
    "    \n"
   ]
  },
  {
   "cell_type": "code",
   "execution_count": 67,
   "metadata": {},
   "outputs": [
    {
     "data": {
      "text/plain": [
       "234545"
      ]
     },
     "execution_count": 67,
     "metadata": {},
     "output_type": "execute_result"
    }
   ],
   "source": [
    "non_overlapped_points = []\n",
    "\n",
    "for point in counted_points:\n",
    "    if counted_points[point] == 1:\n",
    "        non_overlapped_points.append(point)\n",
    "        \n",
    "len(non_overlapped_points)"
   ]
  },
  {
   "cell_type": "code",
   "execution_count": 68,
   "metadata": {},
   "outputs": [
    {
     "data": {
      "text/plain": [
       "[695]"
      ]
     },
     "execution_count": 68,
     "metadata": {},
     "output_type": "execute_result"
    }
   ],
   "source": [
    "non_overlapped_set = set(non_overlapped_points)\n",
    "possible_claims = []\n",
    "\n",
    "for claim in claim_shape.keys():\n",
    "    claim_set = set(claim_shape[claim])\n",
    "    test_the_claim = non_overlapped_set.union(claim_set)\n",
    "    \n",
    "    if len(non_overlapped_set) == len(test_the_claim):\n",
    "        possible_claims.append(claim)\n",
    "        \n",
    "possible_claims"
   ]
  },
  {
   "cell_type": "code",
   "execution_count": null,
   "metadata": {},
   "outputs": [],
   "source": []
  }
 ],
 "metadata": {
  "kernelspec": {
   "display_name": "Python 3",
   "language": "python",
   "name": "python3"
  },
  "language_info": {
   "codemirror_mode": {
    "name": "ipython",
    "version": 3
   },
   "file_extension": ".py",
   "mimetype": "text/x-python",
   "name": "python",
   "nbconvert_exporter": "python",
   "pygments_lexer": "ipython3",
   "version": "3.7.1"
  }
 },
 "nbformat": 4,
 "nbformat_minor": 2
}
