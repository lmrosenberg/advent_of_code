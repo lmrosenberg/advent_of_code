{
 "cells": [
  {
   "cell_type": "code",
   "execution_count": 3,
   "metadata": {},
   "outputs": [],
   "source": [
    "sample_text = \"\"\"Step C must be finished before step A can begin.\n",
    "Step C must be finished before step F can begin.\n",
    "Step A must be finished before step B can begin.\n",
    "Step A must be finished before step D can begin.\n",
    "Step B must be finished before step E can begin.\n",
    "Step D must be finished before step E can begin.\n",
    "Step F must be finished before step E can begin.\"\"\""
   ]
  },
  {
   "cell_type": "code",
   "execution_count": 16,
   "metadata": {},
   "outputs": [
    {
     "data": {
      "text/plain": [
       "'A'"
      ]
     },
     "execution_count": 16,
     "metadata": {},
     "output_type": "execute_result"
    }
   ],
   "source": [
    "#\n",
    "len('Step C must be finished before step ')\n",
    "#sample_text[5]\n",
    "sample_text[36]"
   ]
  },
  {
   "cell_type": "code",
   "execution_count": 36,
   "metadata": {},
   "outputs": [
    {
     "data": {
      "text/plain": [
       "[('C', 'A'),\n",
       " ('C', 'F'),\n",
       " ('A', 'B'),\n",
       " ('A', 'D'),\n",
       " ('B', 'E'),\n",
       " ('D', 'E'),\n",
       " ('F', 'E')]"
      ]
     },
     "execution_count": 36,
     "metadata": {},
     "output_type": "execute_result"
    }
   ],
   "source": [
    "steps_list = []\n",
    "\n",
    "for line in sample_text.splitlines():\n",
    "    prev_step = line[5]\n",
    "    next_step = line[36]\n",
    "    steps_list.append((prev_step,next_step))\n",
    "    \n",
    "steps_list"
   ]
  },
  {
   "cell_type": "code",
   "execution_count": 37,
   "metadata": {},
   "outputs": [
    {
     "name": "stdout",
     "output_type": "stream",
     "text": [
      "{'D', 'F', 'B', 'C', 'A', 'E'}\n",
      "{'C'}\n",
      "{'E'}\n"
     ]
    }
   ],
   "source": [
    "all_befores = {i[0] for i in steps_list}\n",
    "all_afters = {i[1] for i in steps_list}\n",
    "all_steps = all_befores.union(all_afters)\n",
    "\n",
    "first_steps = all_befores - all_afters\n",
    "final_steps = all_afters - all_befores\n",
    "\n",
    "print(all_steps)\n",
    "print(first_steps)\n",
    "print(final_steps)"
   ]
  },
  {
   "cell_type": "code",
   "execution_count": 96,
   "metadata": {},
   "outputs": [
    {
     "data": {
      "text/plain": [
       "{'A': {'C'}, 'B': {'A'}, 'D': {'A'}, 'E': {'B', 'D', 'F'}, 'F': {'C'}}"
      ]
     },
     "execution_count": 96,
     "metadata": {},
     "output_type": "execute_result"
    }
   ],
   "source": [
    "prereqs = dict()\n",
    "\n",
    "for i in all_afters:\n",
    "    out = set()\n",
    "    for step in steps_list:\n",
    "        if step[1]==i:\n",
    "            out.add(step[0])\n",
    "    prereqs[i] = out\n",
    "    \n",
    "prereqs"
   ]
  },
  {
   "cell_type": "code",
   "execution_count": 91,
   "metadata": {},
   "outputs": [
    {
     "data": {
      "text/plain": [
       "{1}"
      ]
     },
     "execution_count": 91,
     "metadata": {},
     "output_type": "execute_result"
    }
   ],
   "source": [
    "out = set()\n",
    "out.add(1)\n",
    "out"
   ]
  },
  {
   "cell_type": "code",
   "execution_count": null,
   "metadata": {},
   "outputs": [],
   "source": []
  },
  {
   "cell_type": "code",
   "execution_count": null,
   "metadata": {},
   "outputs": [],
   "source": []
  },
  {
   "cell_type": "code",
   "execution_count": 42,
   "metadata": {},
   "outputs": [],
   "source": [
    "with open('inputs/day_7.txt') as file:\n",
    "    input_text = file.read()"
   ]
  },
  {
   "cell_type": "code",
   "execution_count": 119,
   "metadata": {},
   "outputs": [
    {
     "name": "stdout",
     "output_type": "stream",
     "text": [
      "current step: C\n",
      "step made available: A\n",
      "step made available: F\n",
      "available_steps: ['A', 'F']\n",
      "completed_steps: {'C'}\n",
      "next_step in process; A\n",
      "the prerques: {'C'}\n",
      "actual next_step in process; A\n",
      "current step: A\n",
      "step made available: B\n",
      "step made available: D\n",
      "available_steps: ['F', 'B', 'D']\n",
      "completed_steps: {'C', 'A'}\n",
      "next_step in process; B\n",
      "the prerques: {'A'}\n",
      "actual next_step in process; B\n",
      "current step: B\n",
      "step made available: E\n",
      "available_steps: ['D', 'F', 'E']\n",
      "completed_steps: {'B', 'C', 'A'}\n",
      "next_step in process; D\n",
      "the prerques: {'A'}\n",
      "actual next_step in process; D\n",
      "current step: D\n",
      "step made available: E\n",
      "available_steps: ['E', 'F', 'E']\n",
      "completed_steps: {'B', 'D', 'C', 'A'}\n",
      "next_step in process; E\n",
      "the prerques: {'F', 'B', 'D'}\n",
      "actual next_step in process; E\n",
      "CABDE\n"
     ]
    }
   ],
   "source": [
    "steps_list = []\n",
    "\n",
    "for line in sample_text.splitlines():\n",
    "    prev_step = line[5]\n",
    "    next_step = line[36]\n",
    "    steps_list.append((prev_step,next_step))\n",
    "    \n",
    "all_befores = {i[0] for i in steps_list}\n",
    "all_afters = {i[1] for i in steps_list}\n",
    "\n",
    "first_steps = list(all_befores - all_afters)\n",
    "final_step = list(all_afters - all_befores)\n",
    "\n",
    "prereqs = dict()\n",
    "for i in all_afters:\n",
    "    out = set()\n",
    "    for step in steps_list:\n",
    "        if step[1]==i:\n",
    "            out.add(step[0])\n",
    "    prereqs[i] = out\n",
    "\n",
    "available_steps = sorted(first_steps)\n",
    "current_step = available_steps.pop(0)\n",
    "next_steps_list = []\n",
    "steps_string = ''\n",
    "completed_steps = set()\n",
    "\n",
    "while current_step != final_step[0]:\n",
    "    #print(available_steps)\n",
    "\n",
    "    print('current step:',current_step)\n",
    "    steps_string = steps_string+current_step\n",
    "\n",
    "    for step in steps_list:\n",
    "        if step[0] == current_step:\n",
    "            print(\"step made available:\", step[1])\n",
    "            available_steps.append(step[1])\n",
    "    print('available_steps:',available_steps)\n",
    "    \n",
    "    available_steps.sort()\n",
    "    completed_steps.add(current_step)\n",
    "    print('completed_steps:',completed_steps)\n",
    "    \n",
    "    current_step = available_steps.pop(0)\n",
    "    print('next_step in process;',current_step)\n",
    "    print('the prerques:',prereqs[current_step])\n",
    "    if not prereqs[current_step].issubset(completed_steps):\n",
    "        put_it_back = current_step\n",
    "        current_step = available_steps.pop(0)\n",
    "        available_steps.append(put_it_back)\n",
    "        available_steps.sort()\n",
    "        \n",
    "    print('actual next_step in process;',current_step)\n",
    "    \n",
    "steps_string = steps_string+final_step[0]\n",
    "print (steps_string)"
   ]
  },
  {
   "cell_type": "code",
   "execution_count": 111,
   "metadata": {},
   "outputs": [
    {
     "name": "stdout",
     "output_type": "stream",
     "text": [
      "False\n",
      "True\n",
      "True\n"
     ]
    },
    {
     "data": {
      "text/plain": [
       "[0, 1, 2, 3]"
      ]
     },
     "execution_count": 111,
     "metadata": {},
     "output_type": "execute_result"
    }
   ],
   "source": [
    "seta = {1,2,3,4,5,6,7,8,9}\n",
    "setb = {0,1,2}\n",
    "setc = {1,2,3}\n",
    "\n",
    "print(setb.issubset(seta))\n",
    "print(not setb.issubset(seta))\n",
    "print(setc.issubset(seta))\n",
    "\n",
    "\n",
    "a = [0,2,3]\n",
    "a.append(1)\n",
    "a.sort()\n",
    "a"
   ]
  }
 ],
 "metadata": {
  "kernelspec": {
   "display_name": "Python 3",
   "language": "python",
   "name": "python3"
  },
  "language_info": {
   "codemirror_mode": {
    "name": "ipython",
    "version": 3
   },
   "file_extension": ".py",
   "mimetype": "text/x-python",
   "name": "python",
   "nbconvert_exporter": "python",
   "pygments_lexer": "ipython3",
   "version": "3.6.3"
  }
 },
 "nbformat": 4,
 "nbformat_minor": 2
}
