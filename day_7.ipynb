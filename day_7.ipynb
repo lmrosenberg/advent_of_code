{
 "cells": [
  {
   "cell_type": "code",
   "execution_count": 142,
   "metadata": {},
   "outputs": [],
   "source": [
    "from collections import defaultdict"
   ]
  },
  {
   "cell_type": "code",
   "execution_count": 3,
   "metadata": {},
   "outputs": [],
   "source": [
    "sample_text = \"\"\"Step C must be finished before step A can begin.\n",
    "Step C must be finished before step F can begin.\n",
    "Step A must be finished before step B can begin.\n",
    "Step A must be finished before step D can begin.\n",
    "Step B must be finished before step E can begin.\n",
    "Step D must be finished before step E can begin.\n",
    "Step F must be finished before step E can begin.\"\"\""
   ]
  },
  {
   "cell_type": "code",
   "execution_count": 16,
   "metadata": {},
   "outputs": [
    {
     "data": {
      "text/plain": [
       "'A'"
      ]
     },
     "execution_count": 16,
     "metadata": {},
     "output_type": "execute_result"
    }
   ],
   "source": [
    "#\n",
    "len('Step C must be finished before step ')\n",
    "#sample_text[5]\n",
    "sample_text[36]"
   ]
  },
  {
   "cell_type": "code",
   "execution_count": 36,
   "metadata": {},
   "outputs": [
    {
     "data": {
      "text/plain": [
       "[('C', 'A'),\n",
       " ('C', 'F'),\n",
       " ('A', 'B'),\n",
       " ('A', 'D'),\n",
       " ('B', 'E'),\n",
       " ('D', 'E'),\n",
       " ('F', 'E')]"
      ]
     },
     "execution_count": 36,
     "metadata": {},
     "output_type": "execute_result"
    }
   ],
   "source": [
    "steps_list = []\n",
    "\n",
    "for line in sample_text.splitlines():\n",
    "    prev_step = line[5]\n",
    "    next_step = line[36]\n",
    "    steps_list.append((prev_step,next_step))\n",
    "    \n",
    "steps_list"
   ]
  },
  {
   "cell_type": "code",
   "execution_count": 37,
   "metadata": {},
   "outputs": [
    {
     "name": "stdout",
     "output_type": "stream",
     "text": [
      "{'D', 'F', 'B', 'C', 'A', 'E'}\n",
      "{'C'}\n",
      "{'E'}\n"
     ]
    }
   ],
   "source": [
    "all_befores = {i[0] for i in steps_list}\n",
    "all_afters = {i[1] for i in steps_list}\n",
    "all_steps = all_befores.union(all_afters)\n",
    "\n",
    "first_steps = all_befores - all_afters\n",
    "final_steps = all_afters - all_befores\n",
    "\n",
    "print(all_steps)\n",
    "print(first_steps)\n",
    "print(final_steps)"
   ]
  },
  {
   "cell_type": "code",
   "execution_count": 96,
   "metadata": {},
   "outputs": [
    {
     "data": {
      "text/plain": [
       "{'A': {'C'}, 'B': {'A'}, 'D': {'A'}, 'E': {'B', 'D', 'F'}, 'F': {'C'}}"
      ]
     },
     "execution_count": 96,
     "metadata": {},
     "output_type": "execute_result"
    }
   ],
   "source": [
    "prereqs = dict()\n",
    "\n",
    "for i in all_afters:\n",
    "    out = set()\n",
    "    for step in steps_list:\n",
    "        if step[1]==i:\n",
    "            out.add(step[0])\n",
    "    prereqs[i] = out\n",
    "    \n",
    "prereqs"
   ]
  },
  {
   "cell_type": "code",
   "execution_count": 91,
   "metadata": {},
   "outputs": [
    {
     "data": {
      "text/plain": [
       "{1}"
      ]
     },
     "execution_count": 91,
     "metadata": {},
     "output_type": "execute_result"
    }
   ],
   "source": [
    "out = set()\n",
    "out.add(1)\n",
    "out"
   ]
  },
  {
   "cell_type": "code",
   "execution_count": null,
   "metadata": {},
   "outputs": [],
   "source": []
  },
  {
   "cell_type": "code",
   "execution_count": null,
   "metadata": {},
   "outputs": [],
   "source": []
  },
  {
   "cell_type": "code",
   "execution_count": 42,
   "metadata": {},
   "outputs": [],
   "source": [
    "with open('inputs/day_7.txt') as file:\n",
    "    input_text = file.read()"
   ]
  },
  {
   "cell_type": "code",
   "execution_count": 147,
   "metadata": {},
   "outputs": [
    {
     "name": "stdout",
     "output_type": "stream",
     "text": [
      "{'C'} <class 'set'>\n",
      "current step: C\n",
      "step made available: A\n",
      "step made available: F\n",
      "available_steps: {'F', 'A'} <class 'set'>\n",
      "listified available_steps: ['A', 'F'] <class 'list'>\n",
      "completed_steps: {'C'} <class 'set'>\n",
      "new current_step: A <class 'str'>\n",
      "['F'] <class 'list'>\n",
      "CE\n"
     ]
    }
   ],
   "source": [
    "steps_list = []\n",
    "\n",
    "for line in sample_text.splitlines():\n",
    "    prev_step = line[5]\n",
    "    next_step = line[36]\n",
    "    steps_list.append((prev_step,next_step))\n",
    "    \n",
    "all_befores = {i[0] for i in steps_list}\n",
    "all_afters = {i[1] for i in steps_list}\n",
    "\n",
    "first_steps = list(all_befores - all_afters)\n",
    "final_step = list(all_afters - all_befores)\n",
    "\n",
    "prereqs = dict()\n",
    "for i in all_afters:\n",
    "    out = set()\n",
    "    for step in steps_list:\n",
    "        if step[1]==i:\n",
    "            out.add(step[0])\n",
    "    prereqs[i] = out\n",
    "\n",
    "available_steps = set(sorted(first_steps))\n",
    "print(available_steps, type(available_steps))\n",
    "current_step = available_steps.pop()\n",
    "next_steps_list = set()\n",
    "steps_string = ''\n",
    "completed_steps = set()\n",
    "\n",
    "while current_step != final_step[0]:\n",
    "    #print(available_steps)\n",
    "\n",
    "    print('current step:',current_step)\n",
    "    steps_string = steps_string+current_step\n",
    "\n",
    "    for step in steps_list:\n",
    "        if step[0] == current_step:\n",
    "            print(\"step made available:\", step[1])\n",
    "            available_steps.add(step[1])\n",
    "    print('available_steps:',available_steps, type(available_steps))\n",
    "    \n",
    "    available_steps = sorted(list(available_steps))\n",
    "    print('listified available_steps:',available_steps, type(available_steps))\n",
    "    completed_steps.add(current_step)\n",
    "    print('completed_steps:',completed_steps, type(completed_steps))\n",
    "    \n",
    "    current_step = available_steps.pop(0)\n",
    "    print('new current_step:', current_step, type(current_step))\n",
    "    print(available_steps, type(available_steps))\n",
    "    break\n",
    "    print('next_step in process;',current_step)\n",
    "    print('the prerques:',prereqs[current_step])\n",
    "    print(prereqs[current_step].issubset(completed_steps))\n",
    "    print('other available steps:', available_steps)\n",
    "    \n",
    "    if not prereqs[current_step].issubset(completed_steps):\n",
    "        print(\"PUT IT BACK!\")\n",
    "        put_it_back = current_step\n",
    "        \n",
    "        print('other available steps:', available_steps)\n",
    "        current_step = available_steps.pop()\n",
    "        \n",
    "        print('new current step:',current_step)\n",
    "        \n",
    "        available_steps.append(put_it_back)\n",
    "        available_steps = sorted(available_steps)\n",
    "        \n",
    "    print('actual next_step in process;',current_step)\n",
    "    \n",
    "steps_string = steps_string+final_step[0]\n",
    "print (steps_string)"
   ]
  },
  {
   "cell_type": "code",
   "execution_count": 139,
   "metadata": {},
   "outputs": [
    {
     "name": "stdout",
     "output_type": "stream",
     "text": [
      "<class 'str'> <class 'set'>\n"
     ]
    }
   ],
   "source": [
    "x = {'F', 'A'}\n",
    "y = x.pop()\n",
    "print(type(y), type(x))"
   ]
  },
  {
   "cell_type": "code",
   "execution_count": 111,
   "metadata": {},
   "outputs": [
    {
     "name": "stdout",
     "output_type": "stream",
     "text": [
      "False\n",
      "True\n",
      "True\n"
     ]
    },
    {
     "data": {
      "text/plain": [
       "[0, 1, 2, 3]"
      ]
     },
     "execution_count": 111,
     "metadata": {},
     "output_type": "execute_result"
    }
   ],
   "source": [
    "seta = {1,2,3,4,5,6,7,8,9}\n",
    "setb = {0,1,2}\n",
    "setc = {1,2,3}\n",
    "\n",
    "print(setb.issubset(seta))\n",
    "print(not setb.issubset(seta))\n",
    "print(setc.issubset(seta))\n",
    "\n",
    "\n",
    "a = [0,2,3]\n",
    "a.append(1)\n",
    "a.sort()\n",
    "a"
   ]
  },
  {
   "cell_type": "code",
   "execution_count": 134,
   "metadata": {},
   "outputs": [
    {
     "name": "stdout",
     "output_type": "stream",
     "text": [
      "1\n",
      "{2, 3, 4, 5, 6, 7, 8, 9}\n",
      "{2, 3}\n",
      "{3}\n"
     ]
    }
   ],
   "source": [
    "seta = {1,2,3,4,5,6,7,8,9}\n",
    "print(seta.pop())\n",
    "print(seta)\n",
    "setc = {1,2,3}\n",
    "setc.pop()\n",
    "print(setc)\n",
    "setc.pop()\n",
    "print(setc)"
   ]
  },
  {
   "cell_type": "code",
   "execution_count": 141,
   "metadata": {},
   "outputs": [
    {
     "ename": "TypeError",
     "evalue": "'set' object does not support indexing",
     "output_type": "error",
     "traceback": [
      "\u001b[0;31m---------------------------------------------------------------------------\u001b[0m",
      "\u001b[0;31mTypeError\u001b[0m                                 Traceback (most recent call last)",
      "\u001b[0;32m<ipython-input-141-692ac87f0d29>\u001b[0m in \u001b[0;36m<module>\u001b[0;34m()\u001b[0m\n\u001b[1;32m      1\u001b[0m \u001b[0msetb\u001b[0m \u001b[0;34m=\u001b[0m \u001b[0;34m{\u001b[0m\u001b[0;36m0\u001b[0m\u001b[0;34m,\u001b[0m\u001b[0;36m1\u001b[0m\u001b[0;34m,\u001b[0m\u001b[0;36m2\u001b[0m\u001b[0;34m}\u001b[0m\u001b[0;34m\u001b[0m\u001b[0m\n\u001b[1;32m      2\u001b[0m \u001b[0;31m#setb.remove(setb[0])\u001b[0m\u001b[0;34m\u001b[0m\u001b[0;34m\u001b[0m\u001b[0m\n\u001b[0;32m----> 3\u001b[0;31m \u001b[0msetb\u001b[0m\u001b[0;34m[\u001b[0m\u001b[0;36m0\u001b[0m\u001b[0;34m]\u001b[0m\u001b[0;34m\u001b[0m\u001b[0m\n\u001b[0m",
      "\u001b[0;31mTypeError\u001b[0m: 'set' object does not support indexing"
     ]
    }
   ],
   "source": [
    "setb = {0,1,2}\n",
    "#setb.remove(setb[0])\n",
    "setb."
   ]
  }
 ],
 "metadata": {
  "kernelspec": {
   "display_name": "Python 3",
   "language": "python",
   "name": "python3"
  },
  "language_info": {
   "codemirror_mode": {
    "name": "ipython",
    "version": 3
   },
   "file_extension": ".py",
   "mimetype": "text/x-python",
   "name": "python",
   "nbconvert_exporter": "python",
   "pygments_lexer": "ipython3",
   "version": "3.7.1"
  }
 },
 "nbformat": 4,
 "nbformat_minor": 2
}
